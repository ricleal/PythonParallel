{
 "cells": [
  {
   "cell_type": "code",
   "execution_count": 1,
   "metadata": {
    "collapsed": false
   },
   "outputs": [],
   "source": [
    "%load_ext cython"
   ]
  },
  {
   "cell_type": "code",
   "execution_count": 27,
   "metadata": {
    "collapsed": false
   },
   "outputs": [],
   "source": [
    "%%cython\n",
    "\"\"\"\n",
    "Cython functions!\n",
    "\"\"\"\n",
    "\n",
    "def fib(n):\n",
    "    \"\"\"\n",
    "    Print the Fibonacci series up to n.\n",
    "    As python but declared in a pyx file!\n",
    "    \"\"\"\n",
    "    a, b = 0, 1\n",
    "    while b < n:\n",
    "        print b,\n",
    "        a, b = b, a + b\n",
    "\n",
    "## Other example:\n",
    "\n",
    "cdef double f(double x) except? -2:\n",
    "    \"\"\"\n",
    "    function to integrate\n",
    "    cdef => Cannot be called from Python\n",
    "    \"\"\"\n",
    "    return x**2-x\n",
    "\n",
    "def integrate_f(double a, double b, int N):\n",
    "    cdef int i\n",
    "    cdef double s, dx\n",
    "    s = 0\n",
    "    dx = (b-a)/N\n",
    "    for i in range(N):\n",
    "        s += f(a+i*dx)\n",
    "    return s * dx\n"
   ]
  },
  {
   "cell_type": "code",
   "execution_count": 28,
   "metadata": {
    "collapsed": false
   },
   "outputs": [
    {
     "name": "stdout",
     "output_type": "stream",
     "text": [
      "Fib result: 1 1 2 3 5 8 13 None\n",
      "Integration result of f: 39662.4\n"
     ]
    }
   ],
   "source": [
    "'''\n",
    "Python code\n",
    "'''\n",
    "\n",
    "print \"Fib result:\", fib(20)\n",
    "\n",
    "print \"Integration result of f:\", integrate_f(10,50,100)"
   ]
  },
  {
   "cell_type": "markdown",
   "metadata": {},
   "source": [
    "# Speeds:\n",
    "\n",
    "Python vs Cython"
   ]
  },
  {
   "cell_type": "code",
   "execution_count": 15,
   "metadata": {
    "collapsed": false
   },
   "outputs": [],
   "source": [
    "# Python version of f integration\n",
    "\n",
    "from __future__ import division\n",
    "\n",
    "def f_py(x):\n",
    "    return x**2-x\n",
    "\n",
    "def integrate_f_py(a, b, N):\n",
    "    s = 0\n",
    "    dx = (b-a)/N\n",
    "    for i in range(N):\n",
    "        s += f_py(a+i*dx)\n",
    "    return s * dx"
   ]
  },
  {
   "cell_type": "code",
   "execution_count": 20,
   "metadata": {
    "collapsed": false
   },
   "outputs": [
    {
     "name": "stdout",
     "output_type": "stream",
     "text": [
      "The slowest run took 11.50 times longer than the fastest. This could mean that an intermediate result is being cached \n",
      "1000000 loops, best of 3: 601 ns per loop\n"
     ]
    }
   ],
   "source": [
    "# cython\n",
    "%timeit integrate_f(10,50,100)"
   ]
  },
  {
   "cell_type": "code",
   "execution_count": 21,
   "metadata": {
    "collapsed": false
   },
   "outputs": [
    {
     "name": "stdout",
     "output_type": "stream",
     "text": [
      "10000 loops, best of 3: 39 µs per loop\n"
     ]
    }
   ],
   "source": [
    "# Python\n",
    "%timeit integrate_f_py(10,50,100)"
   ]
  },
  {
   "cell_type": "code",
   "execution_count": 26,
   "metadata": {
    "collapsed": false
   },
   "outputs": [
    {
     "name": "stdout",
     "output_type": "stream",
     "text": [
      "Cython is 64.9 faster then pure python.\n"
     ]
    }
   ],
   "source": [
    "print \"Cython is %.1f faster then pure python.\" %(39e-6/601e-9)"
   ]
  },
  {
   "cell_type": "code",
   "execution_count": null,
   "metadata": {
    "collapsed": true
   },
   "outputs": [],
   "source": []
  }
 ],
 "metadata": {
  "kernelspec": {
   "display_name": "Python 2",
   "language": "python",
   "name": "python2"
  },
  "language_info": {
   "codemirror_mode": {
    "name": "ipython",
    "version": 2
   },
   "file_extension": ".py",
   "mimetype": "text/x-python",
   "name": "python",
   "nbconvert_exporter": "python",
   "pygments_lexer": "ipython2",
   "version": "2.7.6"
  }
 },
 "nbformat": 4,
 "nbformat_minor": 0
}
