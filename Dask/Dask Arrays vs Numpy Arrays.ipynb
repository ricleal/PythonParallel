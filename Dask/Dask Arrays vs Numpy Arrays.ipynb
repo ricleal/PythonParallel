{
 "cells": [
  {
   "cell_type": "code",
   "execution_count": 1,
   "metadata": {
    "collapsed": true
   },
   "outputs": [],
   "source": [
    "import dask.array as da\n",
    "import numpy as np\n",
    "import time"
   ]
  },
  {
   "cell_type": "code",
   "execution_count": 2,
   "metadata": {
    "collapsed": true
   },
   "outputs": [],
   "source": [
    "def timeit(method):\n",
    "    def timed(*args, **kw):\n",
    "        ts = time.time()\n",
    "        result = method(*args, **kw)\n",
    "        te = time.time()\n",
    "        print 'Time: %2.6f sec' % (te-ts)\n",
    "        return result\n",
    "    return timed"
   ]
  },
  {
   "cell_type": "code",
   "execution_count": 3,
   "metadata": {
    "collapsed": true
   },
   "outputs": [],
   "source": [
    "def task(arr):\n",
    "    #return arr.std(axis=1)\n",
    "    return arr.dot(arr)"
   ]
  },
  {
   "cell_type": "code",
   "execution_count": 4,
   "metadata": {
    "collapsed": true
   },
   "outputs": [],
   "source": [
    "@timeit\n",
    "def task_np(arr):\n",
    "    return task(arr)\n",
    "\n",
    "@timeit\n",
    "def task_da(arr):\n",
    "    arr = task(arr)\n",
    "    return arr.compute()"
   ]
  },
  {
   "cell_type": "code",
   "execution_count": 5,
   "metadata": {
    "collapsed": true
   },
   "outputs": [],
   "source": [
    "N = 80\n",
    "\n",
    "np_arr = np.random.random_sample(size=(N,N,N))\n",
    "\n",
    "da_arr = da.from_array(np_arr, chunks=(100, 100, 100))"
   ]
  },
  {
   "cell_type": "code",
   "execution_count": 6,
   "metadata": {
    "collapsed": false
   },
   "outputs": [
    {
     "name": "stdout",
     "output_type": "stream",
     "text": [
      "------------------------------ Numpy ------------------------------\n",
      "Time: 3.359474 sec\n",
      "------------------------------ Dask ------------------------------\n",
      "Time: 0.703617 sec\n"
     ]
    }
   ],
   "source": [
    "print 30*'-', \"Numpy\", 30*'-'\n",
    "np_arr = task_np(np_arr)\n",
    "print 30*'-', \"Dask\", 30*'-'\n",
    "da_arr = task_da(da_arr)"
   ]
  },
  {
   "cell_type": "code",
   "execution_count": null,
   "metadata": {
    "collapsed": true
   },
   "outputs": [],
   "source": []
  }
 ],
 "metadata": {
  "kernelspec": {
   "display_name": "Python 2",
   "language": "python",
   "name": "python2"
  },
  "language_info": {
   "codemirror_mode": {
    "name": "ipython",
    "version": 2
   },
   "file_extension": ".py",
   "mimetype": "text/x-python",
   "name": "python",
   "nbconvert_exporter": "python",
   "pygments_lexer": "ipython2",
   "version": "2.7.6"
  }
 },
 "nbformat": 4,
 "nbformat_minor": 0
}
