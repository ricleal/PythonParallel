{
 "cells": [
  {
   "cell_type": "code",
   "execution_count": 1,
   "metadata": {
    "collapsed": true
   },
   "outputs": [],
   "source": [
    "import numpy as np\n",
    "from numba import jit"
   ]
  },
  {
   "cell_type": "code",
   "execution_count": 2,
   "metadata": {
    "collapsed": true
   },
   "outputs": [],
   "source": [
    "def bubblesort(items):\n",
    "    ''' Regular bubblesort '''\n",
    "    length = len(items)\n",
    "    swapped = 1\n",
    "    for i in range(0, length):\n",
    "        if swapped:\n",
    "            swapped = 0\n",
    "            for ele in range(0, length-i-1):\n",
    "                if items[ele] > items[ele + 1]:\n",
    "                    temp = items[ele + 1]\n",
    "                    items[ele + 1] = items[ele]\n",
    "                    items[ele] = temp\n",
    "                    swapped = 1\n",
    "    return items"
   ]
  },
  {
   "cell_type": "code",
   "execution_count": 3,
   "metadata": {
    "collapsed": true
   },
   "outputs": [],
   "source": [
    "# Add jit to regular bubblesort\n",
    "# A decorator on the fucntion could also be used: @jit\n",
    "jitbubblesort = jit(bubblesort)"
   ]
  },
  {
   "cell_type": "code",
   "execution_count": 4,
   "metadata": {
    "collapsed": false
   },
   "outputs": [
    {
     "name": "stdout",
     "output_type": "stream",
     "text": [
      "\n",
      "Computing bubblesort for N = 100\n",
      "Python \t0.00120 sec\n",
      "Numba \t0.70964 sec\n",
      "\n",
      "Computing bubblesort for N = 100\n",
      "Python \t0.00085 sec\n",
      "Numba \t0.00018 sec\n",
      "\n",
      "Computing bubblesort for N = 1000\n",
      "Python \t0.08481 sec\n",
      "Numba \t0.00039 sec\n",
      "\n",
      "Computing bubblesort for N = 1000\n",
      "Python \t0.08657 sec\n",
      "Numba \t0.00095 sec\n",
      "\n",
      "Computing bubblesort for N = 10000\n",
      "Python \t8.65367 sec\n",
      "Numba \t0.00283 sec\n"
     ]
    }
   ],
   "source": [
    "import time\n",
    "for N in (100,100,1000,1000,10000):\n",
    "\n",
    "    randoms = np.random.randint(0,1000,(N)).tolist()\n",
    "    print \"\\nComputing bubblesort for N = %s\" % N\n",
    "\n",
    "    # Python\n",
    "    start = time.time()\n",
    "    x = bubblesort(randoms)\n",
    "    print \"Python \\t%.5f sec\" % (time.time() - start)\n",
    "    assert np.all(sorted(randoms) == x)\n",
    "\n",
    "    # Numba\n",
    "    start = time.time()\n",
    "    x = jitbubblesort(randoms)\n",
    "    print \"Numba \\t%.5f sec\" % (time.time() - start)\n",
    "    assert np.all(sorted(randoms) == x)\n"
   ]
  },
  {
   "cell_type": "code",
   "execution_count": null,
   "metadata": {
    "collapsed": true
   },
   "outputs": [],
   "source": []
  }
 ],
 "metadata": {
  "kernelspec": {
   "display_name": "Python 2",
   "language": "python",
   "name": "python2"
  },
  "language_info": {
   "codemirror_mode": {
    "name": "ipython",
    "version": 2
   },
   "file_extension": ".py",
   "mimetype": "text/x-python",
   "name": "python",
   "nbconvert_exporter": "python",
   "pygments_lexer": "ipython2",
   "version": "2.7.6"
  }
 },
 "nbformat": 4,
 "nbformat_minor": 0
}
