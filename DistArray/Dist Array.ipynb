{
 "cells": [
  {
   "cell_type": "code",
   "execution_count": 6,
   "metadata": {
    "collapsed": true
   },
   "outputs": [],
   "source": [
    "import numpy as np\n",
    "import time\n",
    "from distarray.globalapi import Context\n",
    "import distarray.globalapi as da"
   ]
  },
  {
   "cell_type": "markdown",
   "metadata": {},
   "source": [
    "## Note:\n",
    "Dist Arrays need an IPython cluster running:\n",
    "```\n",
    "dacluster start -n4\n",
    "```"
   ]
  },
  {
   "cell_type": "code",
   "execution_count": 7,
   "metadata": {
    "collapsed": true
   },
   "outputs": [],
   "source": [
    "def timeit(method):\n",
    "    def timed(*args, **kw):\n",
    "        ts = time.time()\n",
    "        result = method(*args, **kw)\n",
    "        te = time.time()\n",
    "        print 'Time: %2.6f sec' % (te-ts)\n",
    "        return result\n",
    "    return timed"
   ]
  },
  {
   "cell_type": "code",
   "execution_count": 11,
   "metadata": {
    "collapsed": false
   },
   "outputs": [],
   "source": [
    "try:\n",
    "    context = Context()\n",
    "except:\n",
    "    print \"IPCluster running???\""
   ]
  },
  {
   "cell_type": "code",
   "execution_count": 12,
   "metadata": {
    "collapsed": true
   },
   "outputs": [],
   "source": [
    "@timeit\n",
    "def task_np(arr):\n",
    "    return (np.sin(arr) + np.cos(arr)).sum(axis=1) / arr.sum(axis=2)\n",
    "\n",
    "@timeit\n",
    "def task_da(arr):\n",
    "    return (da.sin(arr) + da.cos(arr)).sum(axis=1) / arr.sum(axis=2)"
   ]
  },
  {
   "cell_type": "code",
   "execution_count": 13,
   "metadata": {
    "collapsed": true
   },
   "outputs": [],
   "source": [
    "N = 400\n",
    "\n",
    "np_arr = np.random.random_sample(size=(N,N,N))\n",
    "\n",
    "da_arr = context.fromarray(np_arr)"
   ]
  },
  {
   "cell_type": "code",
   "execution_count": 14,
   "metadata": {
    "collapsed": false
   },
   "outputs": [
    {
     "name": "stdout",
     "output_type": "stream",
     "text": [
      "------------------------------ Numpy ------------------------------\n",
      "Time: 4.081480 sec\n",
      "------------------------------ DistArray ------------------------------\n",
      "Time: 1.267081 sec\n"
     ]
    }
   ],
   "source": [
    "print 30*'-', \"Numpy\", 30*'-'\n",
    "np_arr = task_np(np_arr)\n",
    "print 30*'-', \"DistArray\", 30*'-'\n",
    "da_arr = task_da(da_arr)"
   ]
  },
  {
   "cell_type": "code",
   "execution_count": null,
   "metadata": {
    "collapsed": true
   },
   "outputs": [],
   "source": []
  }
 ],
 "metadata": {
  "kernelspec": {
   "display_name": "Python 2",
   "language": "python",
   "name": "python2"
  },
  "language_info": {
   "codemirror_mode": {
    "name": "ipython",
    "version": 2
   },
   "file_extension": ".py",
   "mimetype": "text/x-python",
   "name": "python",
   "nbconvert_exporter": "python",
   "pygments_lexer": "ipython2",
   "version": "2.7.6"
  }
 },
 "nbformat": 4,
 "nbformat_minor": 0
}
